{
 "cells": [
  {
   "cell_type": "markdown",
   "id": "a3517cae-88f1-4bfd-a4d9-b7c104ad0a2d",
   "metadata": {},
   "source": [
    "# K-NEAREST NEIGHBOUR"
   ]
  },
  {
   "cell_type": "markdown",
   "id": "d53e256b-708f-4ea1-b482-7e0be58fd22f",
   "metadata": {},
   "source": [
    "# KNN-Classifier and KNN-Regression"
   ]
  },
  {
   "cell_type": "code",
   "execution_count": 3,
   "id": "67ab6b8d-5dd2-4b81-a0a7-f91082eb6a6b",
   "metadata": {},
   "outputs": [],
   "source": [
    "# importing necessary libraries\n",
    "\n",
    "from sklearn.datasets import load_iris,load_diabetes\n",
    "from sklearn.model_selection import train_test_split\n",
    "from sklearn.preprocessing import StandardScaler\n",
    "from sklearn.neighbors import KNeighborsClassifier,KNeighborsRegressor\n",
    "from sklearn.metrics import accuracy_score,mean_squared_error"
   ]
  },
  {
   "cell_type": "code",
   "execution_count": 4,
   "id": "c3e8e6f3-f35c-4f6a-9046-d9fa32b617e8",
   "metadata": {},
   "outputs": [],
   "source": [
    "#loading the datasets for classification\n",
    "iris=load_iris()\n",
    "X_cls,y_cls=iris.data,iris.target\n",
    "\n",
    "#loading the datasets for regression\n",
    "diabetes=load_diabetes()\n",
    "X_reg,y_reg=diabetes.data,diabetes.target"
   ]
  },
  {
   "cell_type": "code",
   "execution_count": 6,
   "id": "dc4be1f4-2724-429a-a68a-dc390308a9d8",
   "metadata": {},
   "outputs": [],
   "source": [
    "# train-test data\n",
    "X_train_cls,X_test_cls,y_train_cls,y_test_cls =train_test_split(X_cls,y_cls,test_size=0.2,random_state=42)\n",
    "\n",
    "X_train_reg,X_test_reg,y_train_reg,y_test_reg =train_test_split(X_reg,y_reg,test_size=0.2,random_state=42)"
   ]
  },
  {
   "cell_type": "code",
   "execution_count": 8,
   "id": "e214f0ae-3247-4659-a92e-19b02d76c228",
   "metadata": {},
   "outputs": [],
   "source": [
    "#feature Scaling\n",
    "scaler=StandardScaler()\n",
    "X_train_cls=scaler.fit_transform(X_train_cls)\n",
    "X_test_cls=scaler.fit_transform(X_test_cls)\n",
    "\n",
    "X_train_reg=scaler.fit_transform(X_train_reg)\n",
    "X_test_reg=scaler.fit_transform(X_test_reg)"
   ]
  },
  {
   "cell_type": "code",
   "execution_count": 18,
   "id": "0c084853-3571-4482-b4f1-c914b8e91f62",
   "metadata": {},
   "outputs": [
    {
     "name": "stdout",
     "output_type": "stream",
     "text": [
      "KNN Classification Accuracy: 0.97\n",
      "KNN Regression MSE: 3111.98\n"
     ]
    }
   ],
   "source": [
    "# KNN Classifier\n",
    "knn_clf = KNeighborsClassifier(n_neighbors=5)\n",
    "knn_clf.fit(X_train_cls, y_train_cls)\n",
    "y_pred_cls = knn_clf.predict(X_test_cls)\n",
    "acc = accuracy_score(y_test_cls, y_pred_cls)\n",
    "print(f\"KNN Classification Accuracy: {acc:.2f}\")\n",
    "# KNN Regressor\n",
    "knn_reg = KNeighborsRegressor(n_neighbors=5)\n",
    "knn_reg.fit(X_train_reg, y_train_reg)\n",
    "y_pred_reg = knn_reg.predict(X_test_reg)\n",
    "mse = mean_squared_error(y_test_reg, y_pred_reg)\n",
    "print(f\"KNN Regression MSE: {mse:.2f}\")"
   ]
  },
  {
   "cell_type": "code",
   "execution_count": null,
   "id": "7b2e4dec-fb2a-4d46-bd22-8640fdf0ac42",
   "metadata": {},
   "outputs": [],
   "source": []
  }
 ],
 "metadata": {
  "kernelspec": {
   "display_name": "Python 3 (ipykernel)",
   "language": "python",
   "name": "python3"
  },
  "language_info": {
   "codemirror_mode": {
    "name": "ipython",
    "version": 3
   },
   "file_extension": ".py",
   "mimetype": "text/x-python",
   "name": "python",
   "nbconvert_exporter": "python",
   "pygments_lexer": "ipython3",
   "version": "3.12.7"
  }
 },
 "nbformat": 4,
 "nbformat_minor": 5
}
